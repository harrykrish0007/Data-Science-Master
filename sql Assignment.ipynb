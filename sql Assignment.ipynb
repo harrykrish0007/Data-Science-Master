{
 "cells": [
  {
   "cell_type": "markdown",
   "id": "13f69470-e5ec-4881-b5e7-e4c56ccaca5d",
   "metadata": {},
   "source": [
    "Q1. What is a database? Differentiate between SQL and NoSQL databases."
   ]
  },
  {
   "cell_type": "markdown",
   "id": "26a8926d-e4e8-4c1b-baa6-e3ed68aa4b01",
   "metadata": {},
   "source": [
    "A database is a structured collection of data that is organized and stored in a way that enables efficient retrieval and manipulation of that data.\n",
    "\n",
    "Sql is relational database management system.These databases have fixed or static or predefined schema. \n",
    "\n",
    "NoSQL is Non-relational or distributed database system.They have a dynamic schema"
   ]
  },
  {
   "cell_type": "markdown",
   "id": "fa661c8c-9e35-4e5d-9b90-60a253a2306a",
   "metadata": {},
   "source": [
    "Q2. What is DDL? Explain why CREATE, DROP, ALTER, and TRUNCATE are used with an example."
   ]
  },
  {
   "cell_type": "markdown",
   "id": "43d33f26-a990-49d7-a05c-7277d029ed05",
   "metadata": {},
   "source": [
    "Data Definition Language(DDL) is a subset of SQL and a part of DBMS(Database Management System). DDL consist of Commands to commands like CREATE, ALTER, TRUNCATE and DROP. These commands are used to create or modify the tables in SQL\n",
    "\n",
    "#Create\n",
    "Create Table table_name(\n",
    "Col1 Datatype,\n",
    "Col2 Datatype,\n",
    "Col3 Datatype\n",
    ");\n",
    "\n",
    "#Alter\n",
    "Alter table table_name\n",
    "Add Col_name Datatype;\n",
    "\n",
    "#Truncate\n",
    "Truncate table table_name;\n",
    "\n",
    "#Drop\n",
    "Drop table table_name;"
   ]
  },
  {
   "cell_type": "markdown",
   "id": "9d4cbde5-5faa-4144-8858-7ae74324d675",
   "metadata": {},
   "source": [
    "Q3. What is DML? Explain INSERT, UPDATE, and DELETE with an example."
   ]
  },
  {
   "cell_type": "markdown",
   "id": "7342345b-0dc4-4103-b638-8cce31957c32",
   "metadata": {},
   "source": [
    "Data Manipulation Language (DML) is a subset of SQL (Structured Query Language) used for manipulating data stored in a relational database. DML consists of commands that allow users to query and modify data in the database.\n",
    "\n",
    "#Insert:\n",
    "The INSERT statement is used to add new records (rows) to a table.\n",
    "\n",
    "#Update:\n",
    "The UPDATE statement is used to modify existing records in a table.\n",
    "\n",
    "#Delete:\n",
    "The DELETE statement is used to remove records from a table."
   ]
  },
  {
   "cell_type": "markdown",
   "id": "a891d2c6-3515-4a33-bacb-35f9ccd310e5",
   "metadata": {},
   "source": [
    "Q4. What is DQL? Explain SELECT with an example."
   ]
  },
  {
   "cell_type": "markdown",
   "id": "0df6946e-7c34-46ad-b628-cab16cfc5c6e",
   "metadata": {},
   "source": [
    "Data Query Language (DQL) is a subset of SQL (Structured Query Language) used for querying and retrieving data from a relational database. The primary DQL command is SELECT, which allows you to specify the columns you want to retrieve and the conditions for retrieving the data.\n",
    "\n",
    "#Select:\n",
    "The SELECT statement is used to retrieve data from one or more tables in a database."
   ]
  },
  {
   "cell_type": "markdown",
   "id": "ee751074-712f-4a6a-8d87-879587bdce0a",
   "metadata": {},
   "source": [
    "Q5. Explain Primary Key and Foreign Key."
   ]
  },
  {
   "cell_type": "markdown",
   "id": "747a3f0b-1719-482f-a20c-19ba26498f9a",
   "metadata": {},
   "source": [
    "#Primary key:\n",
    "A primary key generally focuses on the uniqueness of the table. It is a column or a set of columns that uniquely distinguishes every row in the database. It means it should not have any duplicate value. Also, it doesn’t contain a NULL value.\n",
    "\n",
    "#Foreign Key:\n",
    "A foreign key is generally used to build a relationship between the two tables. The major purpose of the foreign key is to sustain data integrity between two separate instances of an entity."
   ]
  },
  {
   "cell_type": "markdown",
   "id": "030115e3-03d5-47da-8c62-b4dd8635b036",
   "metadata": {},
   "source": [
    "Q6. Write a python code to connect MySQL to python. Explain the cursor() and execute() method."
   ]
  },
  {
   "cell_type": "code",
   "execution_count": null,
   "id": "1634d39a-3cfa-40ed-9934-8de4a9d94521",
   "metadata": {},
   "outputs": [],
   "source": [
    "import mysql.connector\n",
    "dbConfig = mysql.connector.connect(\n",
    "    host = 'localhost',\n",
    "    user = 'root',\n",
    "    password = 'Reset@123',\n",
    ")\n",
    "cursor = dbConfig.cursor()\n",
    "cursor.execute(\"Show all Database\")\n",
    "for i in cursor:\n",
    "    print(i)\n",
    "    \n",
    "cursor.close()"
   ]
  },
  {
   "cell_type": "markdown",
   "id": "43264e3a-d7a7-4d87-addd-c3168bad0b84",
   "metadata": {},
   "source": [
    "The cursor() method is used to create a cursor object. A cursor is a handle or pointer that points to the current position in the result set.\n",
    "\n",
    "The execute() method is used to execute a SQL query. It takes the SQL query as an argument and sends it to the MySQL server for execution."
   ]
  },
  {
   "cell_type": "markdown",
   "id": "721dbb24-470b-40c0-b74f-c05ac90c3ec0",
   "metadata": {},
   "source": [
    "Q7. Give the order of execution of SQL clauses in an SQL query."
   ]
  },
  {
   "cell_type": "markdown",
   "id": "02ab162c-76bb-4b69-a6b2-16a75e80c168",
   "metadata": {},
   "source": [
    "1. FROM clause: The FROM clause specifies the tables from which the data will be retrieved.\n",
    "2. WHERE clause: The WHERE clause filters the data retrieved in the FROM clause based on a condition.\n",
    "3. GROUP BY clause: The GROUP BY clause groups the data retrieved in the WHERE clause based on one or more columns.\n",
    "4. HAVING clause: The HAVING clause filters the groups created in the GROUP BY clause based on a condition.\n",
    "5. SELECT clause: The SELECT clause specifies the columns that will be returned in the result set.\n",
    "6. ORDER BY clause: The ORDER BY clause sorts the data in the result set based on one or more columns.\n",
    "7. LIMIT clause: The LIMIT clause limits the number of rows returned in the result set."
   ]
  }
 ],
 "metadata": {
  "kernelspec": {
   "display_name": "Python 3 (ipykernel)",
   "language": "python",
   "name": "python3"
  },
  "language_info": {
   "codemirror_mode": {
    "name": "ipython",
    "version": 3
   },
   "file_extension": ".py",
   "mimetype": "text/x-python",
   "name": "python",
   "nbconvert_exporter": "python",
   "pygments_lexer": "ipython3",
   "version": "3.10.8"
  }
 },
 "nbformat": 4,
 "nbformat_minor": 5
}
