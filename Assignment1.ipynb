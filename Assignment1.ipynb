{
 "cells": [
  {
   "cell_type": "markdown",
   "id": "90741944-7a8e-4f9e-9858-bf846517945c",
   "metadata": {},
   "source": [
    "Q1. Create one variable containing following type of data:\n",
    "\n",
    "(i) string\n",
    "\n",
    "(ii) list\n",
    "\n",
    "(iii) float\n",
    "\n",
    "(iv) tuple"
   ]
  },
  {
   "cell_type": "code",
   "execution_count": 19,
   "id": "568c23d8-c9d6-4991-b1d8-84d8d6fa0389",
   "metadata": {},
   "outputs": [
    {
     "data": {
      "text/plain": [
       "str"
      ]
     },
     "execution_count": 19,
     "metadata": {},
     "output_type": "execute_result"
    }
   ],
   "source": [
    "#(i)string \n",
    "var = 'string'\n",
    "\n",
    "#(ii)list\n",
    "lis = [1,3.14,'HI',1+2j, True]\n",
    "\n",
    "#(iii)float\n",
    "var1 = 3.14\n",
    "\n",
    "#(iv)tuple\n",
    "var2 = (1,3.14,'HI',1+2j, True)\n",
    "var1 = '[ DS , ML , Python]'\n",
    "type(var1)"
   ]
  },
  {
   "cell_type": "markdown",
   "id": "ab29a3c2-1390-472e-b7da-b3d9dafa4e4e",
   "metadata": {},
   "source": [
    "Q2. Given are some following variables containing data:\n",
    "\n",
    "(i) var1 = ‘ ‘\n",
    "\n",
    "(ii) var2 = ‘[ DS , ML , Python]’\n",
    "\n",
    "(iii) var3 = [ ‘DS’ , ’ML’ , ‘Python’ ]\n",
    "\n",
    "(iv) var4 = 1.\n",
    "\n",
    "\n",
    "What will be the data type of the above given variable."
   ]
  },
  {
   "cell_type": "markdown",
   "id": "16035bbf-b363-49f9-83ed-e7fd0c58e5dd",
   "metadata": {},
   "source": [
    "(i)  var1 is a string.\n",
    "(ii) var2 is a string.\n",
    "(iii)var3 is a list.\n",
    "(iv) var4 is a float."
   ]
  },
  {
   "cell_type": "markdown",
   "id": "da41e7d0-592e-44d9-bf0b-cb4308f8904f",
   "metadata": {},
   "source": [
    "Q3. Explain the use of the following operators using an example:\n",
    "\n",
    "(i) /\n",
    "\n",
    "(ii) % \n",
    "\n",
    "(iii) //\n",
    "\n",
    "(iv) **"
   ]
  },
  {
   "cell_type": "code",
   "execution_count": null,
   "id": "91b5486f-647c-4438-9a6b-e266f60dc9ad",
   "metadata": {},
   "outputs": [],
   "source": [
    "#(i) The \"/\" operator is used for division.\n",
    "a = 10\n",
    "b = 5\n",
    "print(a/b)\n",
    "\n",
    "#(ii) The \"%\" operator is called the modulo operator. It calculates the remainder\n",
    "print(a%b)\n",
    "\n",
    "#(iiI) The \"//\" operator is called the Floor division operator.\n",
    "print(a//b)\n",
    "\n",
    "#(iv) Power: Returns first raised to power second\t\n",
    "print(a**b)"
   ]
  },
  {
   "cell_type": "markdown",
   "id": "0808e225-9eb2-4513-a221-269a75b42ab1",
   "metadata": {},
   "source": [
    "Q4. Create a list of length 10 of your choice containing multiple types of data. Using for loop print the element and its data type."
   ]
  },
  {
   "cell_type": "code",
   "execution_count": null,
   "id": "605834a4-4255-4399-9987-de992784ab2c",
   "metadata": {},
   "outputs": [],
   "source": [
    "lis = [1, 3.14, True, 'hi', 1+2j, 2, 4.14, False, 'HELLO', 2+3j]\n",
    "print(len(lis))\n",
    "for i in lis:\n",
    "    print(i)\n",
    "    print(type(i))"
   ]
  },
  {
   "cell_type": "markdown",
   "id": "dc5f4665-b3df-4211-8704-1914b4e557f9",
   "metadata": {},
   "source": [
    "Q5. Using a while loop, verify if the number A is purely divisible by number B and if so then how many times it can be divisible."
   ]
  },
  {
   "cell_type": "code",
   "execution_count": null,
   "id": "73cdc3a7-e91a-4433-9c7c-0d4477fe7785",
   "metadata": {},
   "outputs": [],
   "source": [
    "A = int(input(\"Enter number A: \"))\n",
    "B = int(input(\"Enter number B: \"))\n",
    "\n",
    "count = 0\n",
    "while A % B == 0:\n",
    "    A = A / B\n",
    "    count += 1\n",
    "\n",
    "if count > 0:\n",
    "    print(f\"Number A is divisible by B and can be divided {count} times.\")\n",
    "else:\n",
    "    print(\"Number A is not divisible by B.\")"
   ]
  },
  {
   "cell_type": "markdown",
   "id": "e35af720-a447-4e38-b130-10a29f28439f",
   "metadata": {},
   "source": [
    "Q6. Create a list containing 25 int type data. Using for loop and if-else condition print if the element is divisible by 3 or not."
   ]
  },
  {
   "cell_type": "code",
   "execution_count": null,
   "id": "c8806975-5bdb-49b8-a3eb-a5ffeff3f347",
   "metadata": {},
   "outputs": [],
   "source": [
    "lis = list(range(0,26))\n",
    "for i in lis:\n",
    "    if (i % 3 == 0) :\n",
    "        print(f'{i} is divisible by 3')\n",
    "    else:\n",
    "        print(f'{i} is not divisible by 3')"
   ]
  },
  {
   "cell_type": "markdown",
   "id": "d0d2da77-adf4-48fb-9e7b-11a49babd516",
   "metadata": {},
   "source": [
    "Q7. What do you understand about mutable and immutable data types? Give examples for both showing this property."
   ]
  },
  {
   "cell_type": "markdown",
   "id": "7e8c57e3-0d0d-46cb-b25b-a3eec857c390",
   "metadata": {},
   "source": [
    "mutability and immutability refer to the ability or inability to modify an object after it has been created. Mutability refers to objects that can be changed, while immutability refers to objects that cannot be changed once created."
   ]
  },
  {
   "cell_type": "code",
   "execution_count": null,
   "id": "ecdebcd5-a7ae-4699-ab5f-4892165b2d0f",
   "metadata": {},
   "outputs": [],
   "source": [
    "#Mutable\n",
    "my_list = [1, 2, 3]\n",
    "print(my_list)  # Output: [1, 2, 3]\n",
    "\n",
    "my_list.append(4)\n",
    "print(my_list)  # Output: [1, 2, 3, 4]\n",
    "\n",
    "my_list[0] = 0\n",
    "print(my_list)  # Output: [0, 2, 3, 4]\n",
    "\n",
    "#Immutable\n",
    "my_string = \"Hello\"\n",
    "print(my_string)  # Output: Hello\n",
    "\n",
    "my_string += \", World!\"\n",
    "print(my_string)  # Output: Hello, World!"
   ]
  }
 ],
 "metadata": {
  "kernelspec": {
   "display_name": "Python 3 (ipykernel)",
   "language": "python",
   "name": "python3"
  },
  "language_info": {
   "codemirror_mode": {
    "name": "ipython",
    "version": 3
   },
   "file_extension": ".py",
   "mimetype": "text/x-python",
   "name": "python",
   "nbconvert_exporter": "python",
   "pygments_lexer": "ipython3",
   "version": "3.10.8"
  }
 },
 "nbformat": 4,
 "nbformat_minor": 5
}
