{
 "cells": [
  {
   "cell_type": "markdown",
   "id": "64db69ef-3827-4005-9afa-5b8a5e3db5af",
   "metadata": {},
   "source": [
    "Q1. Which keyword is used to create a function? Create a function to return a list of odd numbers in the range of 1 to 25."
   ]
  },
  {
   "cell_type": "code",
   "execution_count": 9,
   "id": "01099f28-a0e2-47c3-89cd-c833e0d55511",
   "metadata": {},
   "outputs": [
    {
     "name": "stdout",
     "output_type": "stream",
     "text": [
      "Odd Numbers: [1, 3, 5, 7, 9, 11, 13, 15, 17, 19, 21, 23, 25]\n",
      "Odd Numbers: [1, 3, 5, 7, 9, 11, 13, 15, 17, 19, 21, 23, 25]\n"
     ]
    }
   ],
   "source": [
    "#The keyword used to create a function in Python is def.\n",
    "\n",
    "def odd_num(arr):\n",
    "    odd = []\n",
    "    for num in arr:\n",
    "        if num % 2 != 0:\n",
    "            odd.append(num)\n",
    "    return odd\n",
    "        \n",
    "arr = list(range(0,26))\n",
    "result = odd_num(arr)\n",
    "print('Odd Numbers:',result)\n",
    "\n",
    "#using list comprehensive method\n",
    "def odd_nums():\n",
    "    lis = [i for i in range(0,26) if i%2 != 0]\n",
    "    return lis\n",
    "    \n",
    "value = odd_nums()\n",
    "print('Odd Numbers:',value)"
   ]
  },
  {
   "cell_type": "markdown",
   "id": "93379851-b35e-4c58-92bc-f5e98ef5568e",
   "metadata": {},
   "source": [
    "Q2. Why *args and **kwargs is used in some functions? Create a function each for *args and **kwargs to demonstrate their use."
   ]
  },
  {
   "cell_type": "markdown",
   "id": "f6228ac1-66a5-4260-be36-23591300c522",
   "metadata": {},
   "source": [
    "*args (Arbitrary Arguments):\n",
    "The *args syntax allows a function to accept any number of positional arguments.\n",
    "The arguments passed using *args are collected into a tuple within the function, and you can access them using normal tuple indexing.\n",
    "\n",
    "**kwargs (Keyword Arguments):\n",
    "The **kwargs syntax allows a function to accept any number of keyword arguments.\n",
    "The arguments passed using **kwargs are collected into a dictionary within the function, and you can access them using dictionary syntax."
   ]
  },
  {
   "cell_type": "code",
   "execution_count": 43,
   "id": "5d2d17f4-8d54-4b24-a530-e8dd9c11ce55",
   "metadata": {},
   "outputs": [
    {
     "name": "stdout",
     "output_type": "stream",
     "text": [
      "Arguments:\n",
      "15\n",
      "\n",
      "Keyword Arguments:\n",
      "name:Hari\n",
      "age:26\n",
      "\n",
      "Another method\n",
      "Names: hari,krish\n",
      "country:india\n",
      "age:25\n",
      "occupation:Engineer\n"
     ]
    }
   ],
   "source": [
    "#Example of Keyword arguements and arguments:\n",
    "def arg(*args,**kwargs):\n",
    "    print(\"Arguments:\")\n",
    "    total = 0\n",
    "    for num in args:\n",
    "        total += num\n",
    "    print(total)\n",
    "    \n",
    "    print(\"\\nKeyword Arguments:\")\n",
    "    for key,value in kwargs.items():\n",
    "        print(f'{key}:{value}')\n",
    "    \n",
    "result = arg(1,2,3,4,5, name='Hari', age='26')\n",
    "\n",
    "#Example of Keyword arguements and arguments:\n",
    "def stu_info(*args,**kwargs):\n",
    "    print(\"\\nAnother method\")\n",
    "    print(\"Names:\",\",\".join(args))\n",
    "    \n",
    "    if kwargs:\n",
    "        for key,value in kwargs.items():\n",
    "            print(f'{key}:{value}')\n",
    "    \n",
    "res = stu_info(\"hari\", \"krish\", country=\"india\", age=25, occupation=\"Engineer\")"
   ]
  },
  {
   "cell_type": "markdown",
   "id": "8d076659-047d-40e5-b5f5-6bead5652c86",
   "metadata": {},
   "source": [
    "Q3. What is an iterator in python? Name the method used to initialise the iterator object and the method used for iteration. Use these methods to print the first five elements of the given list [2, 4, 6, 8, 10, 12, 14, 16,18, 20]."
   ]
  },
  {
   "cell_type": "markdown",
   "id": "a692c1c6-090e-4146-bcfc-9a79038e2589",
   "metadata": {},
   "source": [
    "An iterator in Python is an object that is used to iterate over iterable objects like lists, tuples, dicts, and sets. The Python iterators object is initialized using the iter() method. It uses the next() method for iteration."
   ]
  },
  {
   "cell_type": "code",
   "execution_count": 1,
   "id": "1ad8f6b2-22a6-4750-8a80-42dd2c0b773d",
   "metadata": {},
   "outputs": [
    {
     "name": "stdout",
     "output_type": "stream",
     "text": [
      "2\n",
      "4\n",
      "6\n",
      "8\n",
      "10\n"
     ]
    }
   ],
   "source": [
    "lis = [2, 4, 6, 8, 10, 12, 14, 16,18, 20]\n",
    "iterator = iter(lis)\n",
    "\n",
    "for _ in range(5):\n",
    "    element = next(iterator)\n",
    "    print(element)"
   ]
  },
  {
   "cell_type": "markdown",
   "id": "9173af52-78af-4526-8e56-5398477e4e97",
   "metadata": {},
   "source": [
    "Q4. What is a generator function in python? Why yield keyword is used? Give an example of a generator function."
   ]
  },
  {
   "cell_type": "markdown",
   "id": "7421a498-1013-4adf-853b-a45dfd2a37b8",
   "metadata": {},
   "source": [
    "A generator function in Python is a special type of function that generates a sequence of values using the yield keyword instead of the return keyword. When a generator function is called, it returns a generator object, which is an iterator."
   ]
  },
  {
   "cell_type": "code",
   "execution_count": 5,
   "id": "fd70d27a-cb57-49be-8996-2667c47b8a3a",
   "metadata": {},
   "outputs": [
    {
     "name": "stdout",
     "output_type": "stream",
     "text": [
      "0,1,1,2,3,5,8,13,21,34,"
     ]
    }
   ],
   "source": [
    "def fib(n):\n",
    "    a,b = 0,1\n",
    "    for i in range(n):\n",
    "        yield(a)\n",
    "        a,b = b,a+b\n",
    "    \n",
    "result = fib(10)\n",
    "for i in result:\n",
    "    print(i,end=',')"
   ]
  },
  {
   "cell_type": "markdown",
   "id": "bd104b3e-d130-4fc5-a7c5-7db5aa51e453",
   "metadata": {},
   "source": [
    "Q5. Create a generator function for prime numbers less than 1000. Use the next() method to print the first 20 prime numbers."
   ]
  },
  {
   "cell_type": "code",
   "execution_count": 3,
   "id": "f46819b4-6211-41df-ba40-c698ed608d8d",
   "metadata": {},
   "outputs": [
    {
     "name": "stdout",
     "output_type": "stream",
     "text": [
      "2,3,5,7,11,13,17,19,23,29,31,37,41,43,47,53,59,61,67,71,"
     ]
    }
   ],
   "source": [
    "def is_prime(num):\n",
    "    if num < 2:\n",
    "        return False\n",
    "    for i in range(2,int(num**0.5)+1):\n",
    "        if num % i == 0:\n",
    "            return False\n",
    "    return True\n",
    "\n",
    "def prime_generator(limit=1000):\n",
    "    for num in range(2,limit):\n",
    "        if is_prime(num):\n",
    "            yield num\n",
    "\n",
    "result = prime_generator()\n",
    "for _ in range(20):\n",
    "    print(next(result),end=',')"
   ]
  },
  {
   "cell_type": "code",
   "execution_count": null,
   "id": "253e53e4-1f62-4f7e-9987-88fcddfe6680",
   "metadata": {},
   "outputs": [],
   "source": []
  }
 ],
 "metadata": {
  "kernelspec": {
   "display_name": "Python 3 (ipykernel)",
   "language": "python",
   "name": "python3"
  },
  "language_info": {
   "codemirror_mode": {
    "name": "ipython",
    "version": 3
   },
   "file_extension": ".py",
   "mimetype": "text/x-python",
   "name": "python",
   "nbconvert_exporter": "python",
   "pygments_lexer": "ipython3",
   "version": "3.10.8"
  }
 },
 "nbformat": 4,
 "nbformat_minor": 5
}
