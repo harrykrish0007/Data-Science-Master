{
 "cells": [
  {
   "cell_type": "markdown",
   "id": "90741944-7a8e-4f9e-9858-bf846517945c",
   "metadata": {},
   "source": [
    "Q1. How do you comment code in Python? What are the different types of comments?\n",
    "\n",
    "Python supports two types of comments.\n",
    "\n",
    "Single-line comments: These are comments that span only a single line. They start with the # symbol and continue until the end of the line.\n",
    "ex:# This is a single-line comment in Python\n",
    "\n",
    "multi-line comments: multiline string (triple quotes) in your code, and place your comment inside it\n",
    "ex:\"\"\"\n",
    "This is a comment\n",
    "written in\n",
    "more than just one line\n",
    "\"\"\""
   ]
  },
  {
   "cell_type": "markdown",
   "id": "ea978985-5e50-453a-b38b-b8fa34101515",
   "metadata": {},
   "source": [
    "Q2. What are variables in Python? How do you declare and assign values to variables?\n",
    "\n",
    "in Python, variables are used to store and reference data. A variable is essentially a named location in the computer's memory where you can store values such as numbers, strings, lists, or more complex data structures. The value stored in a variable can be changed during the execution of a program.\n",
    "\n",
    "To declare and assign values to variables in Python, you simply need to use the assignment operator =.\n",
    "\n",
    "Ex: variable_name = value"
   ]
  },
  {
   "cell_type": "markdown",
   "id": "85d06fdd-b79d-43c9-8d9e-57838a6fa428",
   "metadata": {},
   "source": [
    "Q3. How do you convert one data type to another in Python?\n",
    "\n",
    "In Python, you can convert one data type to another using type conversion functions or constructors that are specifically designed for each data type. These functions allow you to convert data from one type to another when the conversion is valid.this is called type converation\n",
    "\n",
    "ex:\n",
    "my_string = '25'\n",
    "my_int = int(my_string)"
   ]
  },
  {
   "cell_type": "markdown",
   "id": "9fde6e29-1e48-4d6a-b466-b06b2084834d",
   "metadata": {},
   "source": [
    "Q4. How do you write and execute a Python script from the command line?\n",
    "\n",
    "Writing and executing a Python script from the command line involves creating a text file with a \".py\" extension and then running the script using the Python interpreter from the command line."
   ]
  },
  {
   "cell_type": "code",
   "execution_count": 5,
   "id": "0da588d3-68d5-412e-a5d2-73958cca78b4",
   "metadata": {},
   "outputs": [
    {
     "name": "stdout",
     "output_type": "stream",
     "text": [
      "[2, 3]\n"
     ]
    }
   ],
   "source": [
    "#Q5. Given a list my_list = [1, 2, 3, 4, 5], write the code to slice the list and obtain the sub-list [2, 3].\n",
    "\n",
    "my_list = [1, 2, 3, 4, 5]\n",
    "sub_list = my_list[1:3]\n",
    "print(sub_list)"
   ]
  },
  {
   "cell_type": "markdown",
   "id": "55721e60-a42f-444d-a90b-df5a830699f5",
   "metadata": {},
   "source": [
    "Q6. What is a complex number in mathematics, and how is it represented in Python?\n",
    "\n",
    "In mathematics, a complex number is a number that comprises both a real part and an imaginary part. It is expressed in the form \"a + bi,\" where \"a\" represents the real part, \"b\" represents the imaginary part.\n",
    "\n",
    "in python\n",
    "#using complex() function \n",
    "a = complex(3,2)\n",
    "#assign comlex value\n",
    "b = 4-4j\n",
    "\n",
    "print(a+b)\n",
    "\n",
    "output:\n",
    "(7-2j)"
   ]
  },
  {
   "cell_type": "markdown",
   "id": "41ad2619-63b2-41d3-8a81-6c04b0290a02",
   "metadata": {},
   "source": [
    "#Q7. What is the correct way to declare a variable named age and assign the value 25 to it?\n",
    "\n",
    "The correct way to declare a variable named age and assign the value 25 to it in Python is by using the assignment operator \"=\"\n",
    "\n",
    "age = 25"
   ]
  },
  {
   "cell_type": "markdown",
   "id": "c920b93c-6785-4afe-89bc-6a4b29349b5e",
   "metadata": {},
   "source": [
    "Q8.Declare a variable named price and assign the value 9.99 to it. What data type does this variable\n",
    "belong to?\n",
    "\n",
    "price = 9.99\n",
    "#The variable price is assigned the floating-point number 9.99.\n",
    "print(type(price))"
   ]
  },
  {
   "cell_type": "markdown",
   "id": "4e45d100-6c06-4178-8f1d-c6404c0d6f27",
   "metadata": {},
   "source": [
    "Q9. Create a variable named name and assign your full name to it as a string. How would you print the value of this variable?"
   ]
  },
  {
   "cell_type": "code",
   "execution_count": 12,
   "id": "1028816f-86fc-45f1-b0e3-beca24ded61b",
   "metadata": {},
   "outputs": [
    {
     "name": "stdout",
     "output_type": "stream",
     "text": [
      "Hari Krishnan\n",
      "Hari Krishnan"
     ]
    }
   ],
   "source": [
    "name = \"Hari Krishnan\"\n",
    "\n",
    "#using print method\n",
    "print(name)\n",
    "\n",
    "#else we use condtion\n",
    "for i in name:\n",
    "    print (i, end='')"
   ]
  },
  {
   "cell_type": "markdown",
   "id": "7de4ff0a-2bb1-485c-84e8-28ebfba18ae7",
   "metadata": {},
   "source": [
    "Q10. Given the string \"Hello, World!\", extract the substring \"World\"."
   ]
  },
  {
   "cell_type": "code",
   "execution_count": 15,
   "id": "c56a1d0e-f895-4186-97aa-21bed40b8d77",
   "metadata": {},
   "outputs": [
    {
     "name": "stdout",
     "output_type": "stream",
     "text": [
      " World\n"
     ]
    }
   ],
   "source": [
    "string = \"Hello, World!\"\n",
    "sub_str = string[6:12]\n",
    "print(sub_str)"
   ]
  },
  {
   "cell_type": "markdown",
   "id": "27a8b65a-3f93-4905-9d28-5d34e321a934",
   "metadata": {},
   "source": [
    "Q11. Create a variable named \"is_student\" and assign it a boolean value indicating whether you are\n",
    "currently a student or not."
   ]
  },
  {
   "cell_type": "code",
   "execution_count": 17,
   "id": "ebe79771-4de6-4c6b-9386-dc1f81961a44",
   "metadata": {},
   "outputs": [
    {
     "name": "stdout",
     "output_type": "stream",
     "text": [
      "currently a student\n"
     ]
    }
   ],
   "source": [
    "is_student = True\n",
    "if is_student == True:\n",
    "    print(\"currently a student\")\n",
    "else:\n",
    "    print(\"currently a is not student\")"
   ]
  }
 ],
 "metadata": {
  "kernelspec": {
   "display_name": "Python 3 (ipykernel)",
   "language": "python",
   "name": "python3"
  },
  "language_info": {
   "codemirror_mode": {
    "name": "ipython",
    "version": 3
   },
   "file_extension": ".py",
   "mimetype": "text/x-python",
   "name": "python",
   "nbconvert_exporter": "python",
   "pygments_lexer": "ipython3",
   "version": "3.10.8"
  }
 },
 "nbformat": 4,
 "nbformat_minor": 5
}
