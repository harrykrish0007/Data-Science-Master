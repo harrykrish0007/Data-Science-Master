{
 "cells": [
  {
   "cell_type": "markdown",
   "id": "7f6f1096-d26e-4651-8049-6068dd4e3bf2",
   "metadata": {},
   "source": [
    "Q1, Create a vehicle class with an init method having instance variables as name_of_vehicle, max_speed and average_of_vehicle. "
   ]
  },
  {
   "cell_type": "code",
   "execution_count": 3,
   "id": "92b4e7b1-39cc-4e40-a770-2eca450876ec",
   "metadata": {},
   "outputs": [
    {
     "name": "stdout",
     "output_type": "stream",
     "text": [
      "('toyota', 150, 25)\n"
     ]
    }
   ],
   "source": [
    "class vehicle:\n",
    "    def __init__(self,name_of_vehicle,max_speed,average_of_vehicle):\n",
    "        self.name, = name_of_vehicle,\n",
    "        self.speed = max_speed\n",
    "        self.average = average_of_vehicle\n",
    "        \n",
    "    def get_data(self):\n",
    "        return self.name,self.speed,self.average\n",
    "    \n",
    "data = vehicle('toyota',150,25)\n",
    "result = data.get_data()\n",
    "print(result)"
   ]
  },
  {
   "cell_type": "markdown",
   "id": "a1443019-93c1-4b17-aa29-c4de35400d5c",
   "metadata": {},
   "source": [
    "Q2. Create a child class car from the vehicle class created in Que 1, which will inherit the vehicle class.Create a method named seating_capacity which takes capacity as an argument and returns the name of the vehicle and its seating capacity."
   ]
  },
  {
   "cell_type": "code",
   "execution_count": 7,
   "id": "af9729db-8c86-478f-bae5-a33f3c4a2685",
   "metadata": {},
   "outputs": [
    {
     "name": "stdout",
     "output_type": "stream",
     "text": [
      "The Toyato has a seating capacity of 5 people\n"
     ]
    }
   ],
   "source": [
    "class vehicle:\n",
    "    def __init__(self,vehicle_name):\n",
    "        self.vehicle_name = vehicle_name\n",
    "        \n",
    "class car(vehicle):\n",
    "    def seating_capacity(self,capacity):\n",
    "        return f\"The {vehicle_name} has a seating capacity of {capacity} people\"\n",
    "    \n",
    "vehicle_lis = car('Toyato')\n",
    "result = vehicle_lis.seating_capacity(5)\n",
    "print(result)"
   ]
  },
  {
   "cell_type": "markdown",
   "id": "8640abdb-aa41-4c2b-868f-8a2a99f26320",
   "metadata": {},
   "source": [
    "Q3. What is multiple inheritance? Write a python code to demonstrate multiple inheritance."
   ]
  },
  {
   "cell_type": "markdown",
   "id": "1385b73d-c536-418a-bd7c-47f5c9210040",
   "metadata": {},
   "source": [
    "Multiple inheritance is a feature in object-oriented programming languages like Python that allows a class to inherit attributes and methods from more than one parent class. This means a class can inherit from multiple classes, forming a hierarchy of classes."
   ]
  },
  {
   "cell_type": "code",
   "execution_count": 8,
   "id": "ac682e07-1b46-472d-b922-2501cad383cc",
   "metadata": {},
   "outputs": [
    {
     "name": "stdout",
     "output_type": "stream",
     "text": [
      "The area of rectangle legnth is = 5 The area of rectangle breath is = 10 the area of rectangle is = 50\n"
     ]
    }
   ],
   "source": [
    "class length:\n",
    "    l = 0 \n",
    "    def length(self):\n",
    "        return self.l\n",
    "    \n",
    "class breath:\n",
    "    b = 0\n",
    "    def breath(self):\n",
    "        return self.b\n",
    "    \n",
    "class area(length,breath):\n",
    "    def rect_area(self):\n",
    "        print(\"The area of rectangle legnth is = \" +str(self.l)+ \n",
    "              \" The area of rectangle breath is = \" +str(self.b)+\n",
    "             \" the area of rectangle is = \" +str(self.l * self.b))\n",
    "\n",
    "rect_area = area()\n",
    "rect_area.l = 5\n",
    "rect_area.b = 10\n",
    "rect_area.rect_area()"
   ]
  },
  {
   "cell_type": "markdown",
   "id": "1ec694fa-c1ff-49cf-a9e5-a0d3c6eb4591",
   "metadata": {},
   "source": [
    "Q4. What are getter and setter in python? Create a class and create a getter and a setter method in this class."
   ]
  },
  {
   "cell_type": "code",
   "execution_count": 37,
   "id": "4e98ad92-ea91-408d-8c21-0f5d7cf58021",
   "metadata": {},
   "outputs": [
    {
     "data": {
      "text/plain": [
       "1000"
      ]
     },
     "execution_count": 37,
     "metadata": {},
     "output_type": "execute_result"
    }
   ],
   "source": [
    "class Bank:\n",
    "    def __init__(self, balance):\n",
    "        self.__balance = balance\n",
    "\n",
    "    @property\n",
    "    def get_balance(self):\n",
    "        return self.__balance\n",
    "\n",
    "    @get_balance.setter\n",
    "    def deposit(self, amount):\n",
    "        self.__balance = self.__balance + amount\n",
    "    \n",
    "    @get_balance.setter\n",
    "    def withdraw(self, amount):\n",
    "        if self.__balance >= amount:\n",
    "            self.__balance = self.__balance -amount\n",
    "        else:\n",
    "            return False\n",
    "\n",
    "bank.deposit = 1000\n",
    "bank.get_balance"
   ]
  },
  {
   "cell_type": "markdown",
   "id": "fd1039fb-dd53-4deb-9e4e-c4947aa421ff",
   "metadata": {},
   "source": [
    "Q5.What is method overriding in python? Write a python code to demonstrate method overriding."
   ]
  },
  {
   "cell_type": "markdown",
   "id": "13c3e590-e8e8-40e5-9cd0-87162e53bcd4",
   "metadata": {},
   "source": [
    "Method overriding is a feature in object-oriented programming that allows a subclass to provide a specific implementation of a method that is already defined in its superclass. When a method is overridden in a subclass, the subclass version of the method is called instead of the superclass version when an object of the subclass is used."
   ]
  },
  {
   "cell_type": "code",
   "execution_count": null,
   "id": "8cebced0-0b65-43a7-b681-e4e64a1c24bd",
   "metadata": {},
   "outputs": [],
   "source": [
    "class Animal:\n",
    "    def speak(self):\n",
    "        print(\"Animal speaks\")\n",
    "\n",
    "class Dog(Animal):\n",
    "    def speak(self):\n",
    "        print(\"Dog barks\")\n",
    "\n",
    "class Cat(Animal):\n",
    "    def speak(self):\n",
    "        print(\"Cat meows\")\n",
    "\n",
    "animal = Animal()\n",
    "dog = Dog()\n",
    "cat = Cat()\n",
    "\n",
    "animal.speak()  \n",
    "dog.speak()     \n",
    "cat.speak()     "
   ]
  }
 ],
 "metadata": {
  "kernelspec": {
   "display_name": "Python 3 (ipykernel)",
   "language": "python",
   "name": "python3"
  },
  "language_info": {
   "codemirror_mode": {
    "name": "ipython",
    "version": 3
   },
   "file_extension": ".py",
   "mimetype": "text/x-python",
   "name": "python",
   "nbconvert_exporter": "python",
   "pygments_lexer": "ipython3",
   "version": "3.10.8"
  }
 },
 "nbformat": 4,
 "nbformat_minor": 5
}
