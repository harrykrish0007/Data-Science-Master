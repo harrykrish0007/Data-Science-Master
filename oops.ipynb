{
 "cells": [
  {
   "cell_type": "markdown",
   "id": "23db268f-8f71-4d4f-8ef4-dcdf8bb4c423",
   "metadata": {},
   "source": [
    "Q1. Explain Class and Object with respect to Object-Oriented Programming. Give a suitable example."
   ]
  },
  {
   "cell_type": "markdown",
   "id": "ff5da539-e2aa-47a1-9f6a-42a6ee6c56d8",
   "metadata": {},
   "source": [
    "A class is a user-defined blueprint or prototype which objects are created. classes provide a means of bundling data and functionality together.Creating a new class creates a new type of object, allowing new instances of that type to be made.Each class instance can have attributes attached to it for maintaning state. class instance can also have modifiying their state"
   ]
  },
  {
   "cell_type": "code",
   "execution_count": 10,
   "id": "2b2d5452-8f3f-4de3-b203-722c766553d1",
   "metadata": {},
   "outputs": [
    {
     "name": "stdout",
     "output_type": "stream",
     "text": [
      "The car's speed increased to 10 km/h.\n",
      "The car's speed increased to 40 km/h.\n",
      "The car's speed decreased to 35 km/h.\n",
      "The car's speed decreased to 25 km/h.\n"
     ]
    }
   ],
   "source": [
    "class Car:\n",
    "    def __init__(self,model,brand,year):\n",
    "        self.model = model\n",
    "        self.brand = brand\n",
    "        self.year = year\n",
    "        self.speed = 0 \n",
    "        \n",
    "    def accelerate(self,increase):\n",
    "        self.speed += increase\n",
    "        print(f\"The car's speed increased to {self.speed} km/h.\")\n",
    "    \n",
    "    def breake(self,decrease):\n",
    "        self.speed -= decrease\n",
    "        if self.speed < 0:\n",
    "            self.speed = 0\n",
    "        print(f\"The car's speed decreased to {self.speed} km/h.\")\n",
    "        \n",
    "            \n",
    "vehicle = Car('Toyota','innova',2021)\n",
    "vehicle.accelerate(10)\n",
    "vehicle.accelerate(30)\n",
    "vehicle.breake(5)\n",
    "vehicle.breake(10)"
   ]
  },
  {
   "cell_type": "markdown",
   "id": "9de6fd5a-0ce7-42b9-b0e9-5f380f3688ea",
   "metadata": {},
   "source": [
    "Q2. Name the four pillars of OOPs."
   ]
  },
  {
   "cell_type": "markdown",
   "id": "f9c517ef-b190-4e31-9379-f8b16be0db3e",
   "metadata": {},
   "source": [
    "The four pillars of Object-Oriented Programming (OOP) are:\n",
    "    1.Inheritance, 2.Encapsulation, 3.Abstraction, 4.Polymorphism"
   ]
  },
  {
   "cell_type": "markdown",
   "id": "ba7eb6a0-16cb-42f1-8ddb-54516a28a425",
   "metadata": {},
   "source": [
    "Q3. Explain why the __init__() function is used. Give a suitable example."
   ]
  },
  {
   "cell_type": "markdown",
   "id": "b34c2592-a310-4f3c-849b-c8edde2617af",
   "metadata": {},
   "source": [
    "The __init__ method is called the initilizer it's equivalent to the constructor in object oriented programming languages, and is the method that is run first when you create a new object, or new instance of the class   "
   ]
  },
  {
   "cell_type": "code",
   "execution_count": 2,
   "id": "89172531-6620-440d-8cf9-933120c26e27",
   "metadata": {},
   "outputs": [
    {
     "name": "stdout",
     "output_type": "stream",
     "text": [
      "hari,chennai,26\n"
     ]
    }
   ],
   "source": [
    "class Student:\n",
    "    def __init__(self,name,address,age):\n",
    "        self.name = name\n",
    "        self.address = address\n",
    "        self.age = age\n",
    "        \n",
    "    def student_details(self):\n",
    "        print(f\"{self.name},{self.address},{self.age}\")\n",
    "\n",
    "#instance of the class\n",
    "getStudent = Student('hari','chennai',26)\n",
    "\n",
    "#Using __init__ method is to initilize the object\n",
    "getStudent.student_details()"
   ]
  },
  {
   "cell_type": "markdown",
   "id": "f8261e6d-fde1-43c1-80a6-e1ee4ab44d92",
   "metadata": {},
   "source": [
    "Q4. Why self is used in OOPs?"
   ]
  },
  {
   "cell_type": "markdown",
   "id": "35b50b05-303e-4a20-ae7e-608772bd0f38",
   "metadata": {},
   "source": [
    "Self represents the instance of the class. By using the “self”  we can access the attributes and methods of the class in Python. It binds the attributes with the given arguments. "
   ]
  },
  {
   "cell_type": "markdown",
   "id": "c7d5d2cf-5b8d-4f2e-acc2-a418ae07075c",
   "metadata": {},
   "source": [
    "Q5. What is inheritance? Give an example for each type of inheritance."
   ]
  },
  {
   "cell_type": "markdown",
   "id": "a4a77e88-84dd-4e25-a936-21f843ff6b63",
   "metadata": {},
   "source": [
    "It is mechanism that allows you to create hierarchy of classes that share a set of properties and methods by deriving a class from another class inheritance is the capability of one one class to derive or inherit the properties from another class "
   ]
  },
  {
   "cell_type": "code",
   "execution_count": 8,
   "id": "38c0fbd4-259f-4b06-96aa-33e147242fe0",
   "metadata": {},
   "outputs": [
    {
     "name": "stdout",
     "output_type": "stream",
     "text": [
      "Child class is inherit the Person Base class properties \n",
      "Hari,1001\n",
      "Child class is inherit the Person Base class properties \n",
      "Hari Krish,1002\n"
     ]
    }
   ],
   "source": [
    "#single Inheritance\n",
    "class Person:\n",
    "    def __init__(self,name, Id):\n",
    "        self.name = name\n",
    "        self.Id = Id\n",
    "        \n",
    "    def get_data(self):\n",
    "        print(f\"Child class is inherit the Person Base class properties \\n{self.name},{self.Id}\")\n",
    "        \n",
    "class employee(Person):\n",
    "    def empClass(self):\n",
    "        pass\n",
    "\n",
    "class student(Person):\n",
    "    def studentClass(self):\n",
    "        pass\n",
    "    \n",
    "empObj = employee('Hari',1001)\n",
    "stuObj = student('Hari Krish', 1002)\n",
    "empObj.get_data()\n",
    "stuObj.get_data()"
   ]
  },
  {
   "cell_type": "code",
   "execution_count": null,
   "id": "0c311071-df05-4251-8c5d-4d61b07e35af",
   "metadata": {},
   "outputs": [],
   "source": [
    "#single Inheritance\n",
    "class Person:\n",
    "    def __init__(self,name, Id):\n",
    "        self.name = name\n",
    "        self.Id = Id\n",
    "        \n",
    "    def get_data(self):\n",
    "        print(f\"Child class is inherit the Person Base class properties \\n{self.name},{self.Id}\")\n",
    "        \n",
    "class employee(Person):\n",
    "    def empClass(self):\n",
    "        pass\n",
    "\n",
    "class student(Person):\n",
    "    def studentClass(self):\n",
    "        pass\n",
    "    \n",
    "empObj = employee('Hari',1001)\n",
    "stuObj = student('Hari Krish', 1002)\n",
    "empObj.get_data()\n",
    "stuObj.get_data()"
   ]
  },
  {
   "cell_type": "code",
   "execution_count": 10,
   "id": "efb34b44-3fc2-4a1d-a44d-b38178ff4b81",
   "metadata": {},
   "outputs": [
    {
     "name": "stdout",
     "output_type": "stream",
     "text": [
      "Foo from class B\n"
     ]
    }
   ],
   "source": [
    "#multiple inheritance\n",
    "class A:\n",
    "    def foo(self):\n",
    "        return \"Foo from class A\"\n",
    "\n",
    "class B:\n",
    "    def fo(self):\n",
    "        return \"Foo from class B\"\n",
    "\n",
    "class C(A, B):\n",
    "    pass\n",
    "\n",
    "obj = C()\n",
    "print(obj.foo()) "
   ]
  },
  {
   "cell_type": "code",
   "execution_count": 12,
   "id": "fc70e761-682e-44f6-891d-a5d82db757a4",
   "metadata": {},
   "outputs": [
    {
     "name": "stdout",
     "output_type": "stream",
     "text": [
      "Foo from class A\n"
     ]
    }
   ],
   "source": [
    "#multilevel inheritance\n",
    "class A:\n",
    "    def foo(self):\n",
    "        return \"Foo from class A\"\n",
    "\n",
    "class B(A):\n",
    "    def fo(self):\n",
    "        return \"Foo from class B\"\n",
    "\n",
    "class C(B):\n",
    "    pass\n",
    "\n",
    "obj = C()\n",
    "print(obj.foo()) "
   ]
  }
 ],
 "metadata": {
  "kernelspec": {
   "display_name": "Python 3 (ipykernel)",
   "language": "python",
   "name": "python3"
  },
  "language_info": {
   "codemirror_mode": {
    "name": "ipython",
    "version": 3
   },
   "file_extension": ".py",
   "mimetype": "text/x-python",
   "name": "python",
   "nbconvert_exporter": "python",
   "pygments_lexer": "ipython3",
   "version": "3.10.8"
  }
 },
 "nbformat": 4,
 "nbformat_minor": 5
}
