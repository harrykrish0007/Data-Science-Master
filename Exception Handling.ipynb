{
 "cells": [
  {
   "cell_type": "markdown",
   "id": "daccd586-d7f2-42c0-8b86-cb4647d16c5f",
   "metadata": {},
   "source": [
    "Q1. What is an Exception in python? Write the difference between Exceptions and Syntax errors."
   ]
  },
  {
   "cell_type": "markdown",
   "id": "88c43efc-00ec-4b7a-b5ac-0d91ab2b4f9a",
   "metadata": {},
   "source": [
    "An exception is an error that happens during the  execution of a programme. Whenever there is an error, python generates an exceptin that could be handled. It basically prevents the program from getting crashed\n",
    "\n",
    "Errors in python  can be two types i.e. syntax errors and Exceptions. Errors are program due to which the program will stop in excution. On the other hand exception are raised when some internal events occur which change the normal flow of the progrmme"
   ]
  },
  {
   "cell_type": "markdown",
   "id": "df247500-9ebf-4566-986f-a37719657a02",
   "metadata": {},
   "source": [
    "Q2. What happens when an exception is not handled? Explain with an example."
   ]
  },
  {
   "cell_type": "markdown",
   "id": "e1d01cfe-8716-49d2-af8a-424b38b3ea02",
   "metadata": {},
   "source": [
    "When an exception is not handled. It propagates up the call stack until it is caught and handled by an appropriate exception handler or until it reach the top-level of the program, at which point it may terminate the programe abruptly."
   ]
  },
  {
   "cell_type": "code",
   "execution_count": 18,
   "id": "f581ed26-d22c-423a-ad7d-3d37b3740800",
   "metadata": {},
   "outputs": [
    {
     "name": "stdout",
     "output_type": "stream",
     "text": [
      "Exception caught: division by zero\n"
     ]
    }
   ],
   "source": [
    "def  divide(a,b):\n",
    "\treturn a/b\n",
    "\n",
    "try:\n",
    "\tresult = divide(10,0)\n",
    "\tprint('The solution is:', result)\n",
    "\n",
    "except ZeroDivisionError as e:\n",
    "\tprint('Exception caught:',e)"
   ]
  },
  {
   "cell_type": "markdown",
   "id": "a4b31ed5-6866-475b-a6aa-4916dc1fbd01",
   "metadata": {},
   "source": [
    "Q3. Which Python statements are used to catch and handle exceptions? Explain with an example."
   ]
  },
  {
   "cell_type": "markdown",
   "id": "ca5f3bf2-72ee-4237-b02e-79b1b64b2465",
   "metadata": {},
   "source": [
    "Try and except statements are used to catch and handle exceptions in python. Statement that can raise exceptions are kept inside the try clause and the statements that handle the exceptions are written inside except clause."
   ]
  },
  {
   "cell_type": "code",
   "execution_count": 15,
   "id": "a0184444-9bc2-4ab9-bd14-b8fb59b5d110",
   "metadata": {},
   "outputs": [
    {
     "name": "stdin",
     "output_type": "stream",
     "text": [
      "Input an integer: kk\n"
     ]
    },
    {
     "name": "stdout",
     "output_type": "stream",
     "text": [
      "Error: invalid input, Please Enter the valid input\n",
      "Input Value: None\n"
     ]
    }
   ],
   "source": [
    "def  get_valid_input(prompt):\n",
    "\n",
    "\ttry:\n",
    "\t\tN = int(input(prompt))\n",
    "\t\treturn N\n",
    "\texcept ValueError:\n",
    "\t\tprint('Error: invalid input, Please Enter the valid input')\n",
    "\t\n",
    "\n",
    "res = get_valid_input('Input an integer:')\n",
    "print('Input Value:', res)"
   ]
  },
  {
   "cell_type": "markdown",
   "id": "ad869b25-0c26-4a5b-b48f-d946f3c3671f",
   "metadata": {},
   "source": [
    "Q4. Explain with an example:"
   ]
  },
  {
   "cell_type": "markdown",
   "id": "c6447098-6a3a-41f4-b4cc-fd89da24cfdc",
   "metadata": {},
   "source": [
    "try: This block will test the excepted error to occur\n",
    "else: if there is no exception then this block will be executed\n",
    "except: here you  can handle the error\n",
    "finally: finally block always gets executed either exception generated or not"
   ]
  },
  {
   "cell_type": "code",
   "execution_count": 21,
   "id": "6d22b443-7037-4716-a9dc-6273efdf494b",
   "metadata": {},
   "outputs": [
    {
     "name": "stdout",
     "output_type": "stream",
     "text": [
      "file opened successfully\n",
      "file closed\n"
     ]
    }
   ],
   "source": [
    "def file_Handling(fname):\n",
    "\ttry:\n",
    "\t\tf = open(fname, 'r')\n",
    "\t\tf.read()\n",
    "\texcept FileNotFoundError:\n",
    "\t\tprint('File not found')\n",
    "\telse:\n",
    "\t\tprint('file opened successfully')\n",
    "\t\tf.close()\n",
    "\tfinally:\n",
    "\t\tprint('file closed')\n",
    "\n",
    "\n",
    "file_Handling('test.txt')"
   ]
  },
  {
   "cell_type": "markdown",
   "id": "1a07ccb7-1216-468f-ab71-edd47a968d47",
   "metadata": {},
   "source": [
    "Q5. What are Custom Exceptions in python? Why do we need Custom Exceptions? Explain with an example."
   ]
  },
  {
   "cell_type": "markdown",
   "id": "5be0da32-b396-4899-9ac2-64c00b11ca75",
   "metadata": {},
   "source": [
    "A custom exception is an exception that is defined by the user. It is used when the built-in exceptions are not sufficient to handle a particular scenario in a program.\n",
    "\n",
    "Custom exceptions are useful in situations where you want to handle specific errors in a program."
   ]
  },
  {
   "cell_type": "code",
   "execution_count": 3,
   "id": "108e0f11-4aa0-498d-bd2e-72052236a5e2",
   "metadata": {},
   "outputs": [
    {
     "name": "stdout",
     "output_type": "stream",
     "text": [
      "InputError: Invalid Data\n"
     ]
    }
   ],
   "source": [
    "class InputError(Exception):\n",
    "    def __init__(self, input_value):\n",
    "        self.inputvalue = input_value\n",
    "        \n",
    "try:\n",
    "    userInput = \"Invalid Data\"\n",
    "    if not userInput.isdigit():\n",
    "        raise InputError(userInput)\n",
    "except InputError as e:\n",
    "    print(f\"InputError: {e}\")"
   ]
  },
  {
   "cell_type": "code",
   "execution_count": null,
   "id": "060fb5d5-17c4-4f33-8ff9-988328a75ac0",
   "metadata": {},
   "outputs": [
    {
     "name": "stdin",
     "output_type": "stream",
     "text": [
      "Enter the Valid Mobile Number: 9876543210\n"
     ]
    }
   ],
   "source": [
    "class MobileNumberValidate(Exception):\n",
    "    def __init__(self, number):\n",
    "        self.number = number\n",
    "\n",
    "try:\n",
    "    userInput = input(\"Enter the Valid Mobile Number:\")\n",
    "    if len(userInput) != 10:\n",
    "        raise MobileNumberValidate(\"You entered an invalid number. Please enter a valid 10-digit number.\")\n",
    "except MobileNumberValidate as e:\n",
    "    print(e)\n"
   ]
  },
  {
   "cell_type": "code",
   "execution_count": null,
   "id": "f497066a-c893-4dea-86df-f31f223e0303",
   "metadata": {},
   "outputs": [],
   "source": []
  }
 ],
 "metadata": {
  "kernelspec": {
   "display_name": "Python 3 (ipykernel)",
   "language": "python",
   "name": "python3"
  },
  "language_info": {
   "codemirror_mode": {
    "name": "ipython",
    "version": 3
   },
   "file_extension": ".py",
   "mimetype": "text/x-python",
   "name": "python",
   "nbconvert_exporter": "python",
   "pygments_lexer": "ipython3",
   "version": "3.10.8"
  }
 },
 "nbformat": 4,
 "nbformat_minor": 5
}
