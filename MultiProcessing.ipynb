{
 "cells": [
  {
   "cell_type": "markdown",
   "id": "a42d83dd-f93b-4ff9-ba7c-3dd13a7bedff",
   "metadata": {},
   "source": [
    "Q1. What is multiprocessing in python? Why is it useful? "
   ]
  },
  {
   "cell_type": "markdown",
   "id": "e0170fd1-9b42-46e8-bcff-a1b299ce8423",
   "metadata": {},
   "source": [
    "Multiprocessing in Python refers to the ability to create and manage multiple processes, each of which runs its own Python interpreter. It's a way to achieve parallelism and take advantage of multi-core processors to perform tasks concurrently.\n",
    "\n",
    "#Uses\n",
    "Parallelism,Isolation,GIL Bypass,Fault Tolerance,Scalability"
   ]
  },
  {
   "cell_type": "markdown",
   "id": "3970705b-b7fa-4ac0-b09c-de676d53362e",
   "metadata": {},
   "source": [
    "Q2. What are the differences between multiprocessing and multithreading?"
   ]
  },
  {
   "cell_type": "markdown",
   "id": "c003330f-bc6d-46ff-9e8f-15ebf602429a",
   "metadata": {},
   "source": [
    "Multiprocessing: 1. Multiprocessing achieves true parallelism by running multiple processes concurrently, \n",
    "2.Each process has its own memory space, which means they don't share data by default. 3.Multiprocessing bypasses the GIL because each process runs its own Python interpreter. 4.Each process consumes its own memory space and resources. 5.Multiprocessing is often considered easier to reason about and debug because of the isolation between processes.\n",
    "\n",
    "Multithreading: 1. Multithreading provides concurrency, but it doesn't necessarily achieve true parallelism in CPython due to the Global Interpreter Lock (GIL). 2. Threads within the same process share memory, which can lead to shared data and potential race conditions. 3.  In CPython, the GIL prevents multiple native threads from executing Python code simultaneously. 4. Threads within the same process share memory and resources, resulting in lower memory overhead and faster thread creation. 5. Multithreading can be more complex due to shared memory and the potential for race conditions. "
   ]
  },
  {
   "cell_type": "markdown",
   "id": "26950d64-2ed2-4123-ac17-cc0669e6be6b",
   "metadata": {},
   "source": [
    "Q3. Write a python code to create a process using the multiprocessing module."
   ]
  },
  {
   "cell_type": "code",
   "execution_count": 16,
   "id": "494f444a-f6b7-4f2f-b71d-9b8fc53149a0",
   "metadata": {},
   "outputs": [
    {
     "name": "stdout",
     "output_type": "stream",
     "text": [
      "This is my main method\n",
      "[0, 1, 4, 9, 16, 25, 36, 49, 64, 81]\n"
     ]
    }
   ],
   "source": [
    "import multiprocessing\n",
    "\n",
    "def func():\n",
    "    input = range(10)\n",
    "    res = [val ** 2 for val in input]\n",
    "    print(res)\n",
    "    \n",
    "if __name__ == '__main__':\n",
    "    process = multiprocessing.Process(target=func)\n",
    "    process.start()\n",
    "    process.join()\n",
    "    print(\"The func method is successfully verified!\")"
   ]
  },
  {
   "cell_type": "markdown",
   "id": "283d9e02-6967-4380-9ccf-24b3c084d3d5",
   "metadata": {},
   "source": [
    "Q4. What is a multiprocessing pool in python? Why is it used?"
   ]
  },
  {
   "cell_type": "markdown",
   "id": "a4a097f7-6300-4333-9bb1-89f071a27d97",
   "metadata": {},
   "source": [
    "A multiprocessing pool in Python, specifically the multiprocessing.A pool simplifies the process of creating and managing multiple processes and collecting their results.\n",
    "\n",
    "#uses\n",
    "Task Distribution,Parallelism,Result Collection,Resource Management,GIL Bypass"
   ]
  },
  {
   "cell_type": "markdown",
   "id": "fa4a401c-bd13-465a-a57b-99e3c4198268",
   "metadata": {},
   "source": [
    "Q5. How can we create a pool of worker processes in python using the multiprocessing module?"
   ]
  },
  {
   "cell_type": "code",
   "execution_count": 19,
   "id": "aff9c77a-f06d-4124-8fca-59801c9297a3",
   "metadata": {},
   "outputs": [
    {
     "name": "stdout",
     "output_type": "stream",
     "text": [
      "[0, 1, 4, 9, 16, 25, 36, 49, 64, 81]\n"
     ]
    }
   ],
   "source": [
    "import multiprocessing\n",
    "\n",
    "def worker_process(x):\n",
    "    return x*x\n",
    "\n",
    "if __name__ == '__main__':\n",
    "    pool = multiprocessing.Pool(processes=4)\n",
    "    inuput = range(10)\n",
    "    output = pool.map(worker_process,inuput)\n",
    "    pool.close()\n",
    "    pool.join()\n",
    "    print(output)"
   ]
  },
  {
   "cell_type": "markdown",
   "id": "86ebda9a-eaa9-49e7-bfd5-f924beea04a6",
   "metadata": {},
   "source": [
    "Q6. Write a python program to create 4 processes, each process should print a different number using the multiprocessing module in python."
   ]
  },
  {
   "cell_type": "code",
   "execution_count": null,
   "id": "c1b08694-fc62-4014-b2a6-48b6334e8451",
   "metadata": {},
   "outputs": [],
   "source": [
    "import multiprocessing\n",
    "\n",
    "def dif_num(n):\n",
    "    print(f'Process {n}: The number is {n}')\n",
    "    \n",
    "if __name__ == '__main__':\n",
    "    value = [1,2,3,4]\n",
    "    \n",
    "    processes = []\n",
    "    \n",
    "    for val in value:\n",
    "        process = multiprocessing.Process(target=dif_num, args=(val,))\n",
    "        processes.append(process)\n",
    "        process.start()\n",
    "    \n",
    "    for pro in processes:\n",
    "        pro.join()\n",
    "        \n",
    "    print(\"All process have finished\")"
   ]
  }
 ],
 "metadata": {
  "kernelspec": {
   "display_name": "Python 3 (ipykernel)",
   "language": "python",
   "name": "python3"
  },
  "language_info": {
   "codemirror_mode": {
    "name": "ipython",
    "version": 3
   },
   "file_extension": ".py",
   "mimetype": "text/x-python",
   "name": "python",
   "nbconvert_exporter": "python",
   "pygments_lexer": "ipython3",
   "version": "3.10.8"
  }
 },
 "nbformat": 4,
 "nbformat_minor": 5
}
