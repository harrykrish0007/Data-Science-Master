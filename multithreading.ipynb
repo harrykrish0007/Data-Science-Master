{
 "cells": [
  {
   "cell_type": "markdown",
   "id": "005f2b27-ef88-4ff2-8d25-be4fd309c9f9",
   "metadata": {},
   "source": [
    "Q1. What is multithreading in python? Why is it used? Name the module used to handle threads in python."
   ]
  },
  {
   "cell_type": "markdown",
   "id": "ca002952-e900-4e6a-a6f8-1a014f8fd5f2",
   "metadata": {},
   "source": [
    "#Multithreading\n",
    "\n",
    "Multithreading techniques that enables multi tasks to be executed simultaneously.The ability of a processor to execute multiple threads simultaneously is known as multithreading.\n",
    "\n",
    "#Uses\n",
    "Perfomence, Rendering, Speed and Time consumption\n",
    "\n",
    "\n",
    "Threading module is used to handle threads in python"
   ]
  },
  {
   "cell_type": "markdown",
   "id": "b294b644-d7c0-4b04-bfdd-0ba18021b3b5",
   "metadata": {},
   "source": [
    "Q2. Why threading module used? Write the use of the following functions"
   ]
  },
  {
   "cell_type": "markdown",
   "id": "9dc41d26-9e81-4325-80d8-4ccbf6d1d0e4",
   "metadata": {},
   "source": [
    "The 'Threading' module in python is used for creating and managing tools.Threads are lightweight, smaller units of a process that can run concurrently, allowing you to perform multiple tasks concurrently within a single program.\n",
    "\n",
    "1. 'activeCount()' This function is used to get the number of thread objects currently alive\n",
    "\n",
    "2. 'currentThread()' This function is used to get a reference to the current Thread object that is executing the function.\n",
    "\n",
    "3. 'enumerate()' This function returns list of thread objects currently alive"
   ]
  },
  {
   "cell_type": "code",
   "execution_count": null,
   "id": "7c08b64d-91d2-4cdc-80fb-e11c8c5db69a",
   "metadata": {},
   "outputs": [],
   "source": [
    "import threading\n",
    "\n",
    "def myfunc():\n",
    "    cur = threading.currentThread()\n",
    "    print('CurrentThread:', cur.getName())\n",
    "\n",
    "thread = threading.Thread(target=myfunc)\n",
    "thread.start()\n",
    "\n",
    "thread1 = threading.Thread(target=myfunc)\n",
    "thread1.start()\n",
    "\n",
    "active_Thread = threading.activeCount()\n",
    "print(\"activeThread:\", active_Thread)\n",
    "\n",
    "for t in threading.enumerate():\n",
    "    print(\"Enumerate Threading:\", t.getName())"
   ]
  },
  {
   "cell_type": "markdown",
   "id": "b6b7d679-1711-4290-a54b-fe669a0cce9d",
   "metadata": {},
   "source": [
    "Q3. Explain the following functions"
   ]
  },
  {
   "cell_type": "markdown",
   "id": "e58d2e26-e503-4a2b-be39-8b66dc178aa2",
   "metadata": {},
   "source": [
    "run(): The run() method is not a function but a method of the Thread class. You can override this method when creating a custom thread class by subclassing threading.Thread.\n",
    "\n",
    "start(): The start() method is used to start the execution of a thread.\n",
    "\n",
    "join(): The join() method is used to wait for a thread to complete its execution before continuing with the main program.\n",
    "\n",
    "isAlive(): The isAlive() method is used to check whether a thread is currently active and running or has already finished its execution."
   ]
  },
  {
   "cell_type": "markdown",
   "id": "73b12548-39c0-4d95-9069-e11aa3de2864",
   "metadata": {},
   "source": [
    "Q4. Write a python program to create two threads. Thread one must print the list of squares and thread two must print the list of cubes.\n"
   ]
  },
  {
   "cell_type": "code",
   "execution_count": null,
   "id": "5a1cb620-6107-4e30-aab3-dee685f904b5",
   "metadata": {},
   "outputs": [],
   "source": [
    "import threading\n",
    "\n",
    "def sqroot(x):\n",
    "    res = pow(x,2)\n",
    "    print(f\"The sq roots of {x}: {res}\")\n",
    "    \n",
    "def cube(x):\n",
    "    res = pow(x,3)\n",
    "    print(f\"The cubes of {x}: {res}\")\n",
    "    \n",
    "sqroot_threads = [threading.Thread(target=sqroot, args=(i,)) for i in range(10)]\n",
    "cube_threads = [threading.Thread(target=cube, args=(i,)) for i in range(10)]\n",
    "\n",
    "for t1 in sqroot_threads:\n",
    "    t1.start()\n",
    "    \n",
    "for t2 in cube_threads:\n",
    "    t2.start()\n",
    "    \n",
    "for t1 in sqroot_threads:\n",
    "    t1.join()\n",
    "    \n",
    "for t2 in cube_threads:\n",
    "    t2.join()\n",
    "    \n",
    "print(\"All threads have finished\")"
   ]
  },
  {
   "cell_type": "markdown",
   "id": "0fa48eb4-360d-4784-bacb-ae98d342b4a9",
   "metadata": {},
   "source": [
    "Q5. State advantages and disadvantages of multithreading."
   ]
  },
  {
   "cell_type": "markdown",
   "id": "75be0e3f-8a83-40a0-9f07-4b15400422de",
   "metadata": {},
   "source": [
    "#Advantages\n",
    "Improved Performance,Responsiveness,Resource Sharing,Parallelism,Modularity and Code Organization\n",
    "\n",
    "#Disadvantages\n",
    "Complexity,Thread Synchronization,Overhead,Scalability Limits,Debugging Challenges"
   ]
  },
  {
   "cell_type": "markdown",
   "id": "59726b15-d870-4d54-90dc-c0c3eed2f466",
   "metadata": {},
   "source": [
    "Q6. Explain deadlocks and race conditions."
   ]
  },
  {
   "cell_type": "markdown",
   "id": "468ce1cc-01f7-494e-9b09-e3582bdde116",
   "metadata": {},
   "source": [
    "#Deadlocks\n",
    "A deadlock is a situation in which two or more threads or processes are unable to proceed because they are each waiting for the other(s) to release a resource or take some action. In other words, it's a standstill where none of the threads can make progress.\n",
    "\n",
    "#Race Conditions\n",
    "A race condition occurs when two or more threads or processes access shared data or resources concurrently, and the final outcome depends on the timing or order of execution. Race conditions can lead to unexpected and incorrect results because the threads' actions can interfere with each other."
   ]
  }
 ],
 "metadata": {
  "kernelspec": {
   "display_name": "Python 3 (ipykernel)",
   "language": "python",
   "name": "python3"
  },
  "language_info": {
   "codemirror_mode": {
    "name": "ipython",
    "version": 3
   },
   "file_extension": ".py",
   "mimetype": "text/x-python",
   "name": "python",
   "nbconvert_exporter": "python",
   "pygments_lexer": "ipython3",
   "version": "3.10.8"
  }
 },
 "nbformat": 4,
 "nbformat_minor": 5
}
