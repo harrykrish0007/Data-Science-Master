{
 "cells": [
  {
   "cell_type": "markdown",
   "id": "dbf8afad-603f-40e8-9922-a08ae0085848",
   "metadata": {},
   "source": [
    "Q1. Explain why we have to use the Exception class while creating a Custom Exception."
   ]
  },
  {
   "cell_type": "markdown",
   "id": "bae7cfe7-d0dd-4b37-9709-a657f28f3a89",
   "metadata": {},
   "source": [
    "We have to use the Exception class while creating a custom exception in Python because it allows us to take advantage of Python's built-in exception handling mechanisms. When we raise a custom exception class that inherits from Exception, Python will be able to recognize it as an exception and handle it accordingly."
   ]
  },
  {
   "cell_type": "markdown",
   "id": "f6971d13-c72c-4388-ac4e-bc59beb1dc94",
   "metadata": {},
   "source": [
    "Q2. Write a python program to print Python Exception Hierarchy."
   ]
  },
  {
   "cell_type": "code",
   "execution_count": null,
   "id": "93c4bd3b-6a8d-4019-8b66-d8d6ee56276c",
   "metadata": {},
   "outputs": [],
   "source": [
    "import inspect\n",
    "\n",
    "def print_exception_hierarchy(cls):\n",
    "    print(cls.__name__)\n",
    "    for subclass in cls.__subclasses__():\n",
    "        print_exception_hierarchy(subclass)\n",
    "\n",
    "print_exception_hierarchy(BaseException)"
   ]
  },
  {
   "cell_type": "markdown",
   "id": "8b529510-82d2-4e67-a810-5a5930545955",
   "metadata": {},
   "source": [
    "Q3. What errors are defined in the ArithmeticError class? Explain any two with an example."
   ]
  },
  {
   "cell_type": "markdown",
   "id": "7994285a-a4f7-4d1a-922a-75838d3f7607",
   "metadata": {},
   "source": [
    "The ArithmeticError class in Python defines the following errors:\n",
    "\n",
    "FloatingPointError: Raised when an operation on floating-point numbers results in an invalid or undefined result.\n",
    "OverflowError: Raised when an arithmetic operation results in a result that is too large to be represented by the given data type.\n",
    "ZeroDivisionError: Raised when an attempt is made to divide a number by zero."
   ]
  },
  {
   "cell_type": "code",
   "execution_count": 56,
   "id": "571755c4-35ae-45e4-879e-f2c01781bfb3",
   "metadata": {},
   "outputs": [
    {
     "name": "stdout",
     "output_type": "stream",
     "text": [
      "Please! Don't divide by zero else you'll get an error. division by zero\n",
      "inf\n"
     ]
    }
   ],
   "source": [
    "import sys\n",
    "\n",
    "def zeroError(val,val2):\n",
    "    try:\n",
    "        res = val / val2\n",
    "        print(res)\n",
    "    except ZeroDivisionError as e:\n",
    "        print(\"Please! Don't divide by zero else you'll get an error.\",e)\n",
    "\n",
    "\n",
    "def overFlowError(val):\n",
    "    try:\n",
    "        res = sys.float_info.max * val\n",
    "        print(res)\n",
    "    except OverflowError as e:\n",
    "        print('The Value is too large',e)\n",
    "\n",
    "if __name__ == '__main__':\n",
    "    zeroError(2,0)\n",
    "    overFlowError(5)"
   ]
  },
  {
   "cell_type": "markdown",
   "id": "cfa7ebb4-8d5b-4313-a92d-c8cd6d68bd15",
   "metadata": {},
   "source": [
    "Q4. Why LookupError class is used? Explain with an example KeyError and IndexError."
   ]
  },
  {
   "cell_type": "markdown",
   "id": "9427e639-6c73-4bea-9adb-747abea53ec1",
   "metadata": {},
   "source": [
    "LookupError Exception is the Base class for errors raised when something can’t be found. The base class for the exceptions that are raised when a key or index used on a mapping or sequence is invalid: IndexError, KeyError."
   ]
  },
  {
   "cell_type": "code",
   "execution_count": null,
   "id": "05e7f957-3597-45f0-8ec2-eccf03a6d8ea",
   "metadata": {},
   "outputs": [],
   "source": [
    "#keyError\n",
    "my_dict = {'apple': 3, 'banana': 2, 'cherry': 5}\n",
    "\n",
    "try:\n",
    "    value = my_dict['grape']\n",
    "    print(value)\n",
    "except KeyError as e:\n",
    "    print(\"KeyError:\", e)"
   ]
  },
  {
   "cell_type": "code",
   "execution_count": null,
   "id": "c3536326-2a33-4bc9-a0b5-dd18e76db2e1",
   "metadata": {},
   "outputs": [],
   "source": [
    "#IndexError\n",
    "\n",
    "my_index = [2,5,3,10,15,20]\n",
    "\n",
    "try:\n",
    "    val = my_index[5]\n",
    "    print(val)\n",
    "except IndexError as e:\n",
    "    print(\"IndexError:\",e)"
   ]
  },
  {
   "cell_type": "markdown",
   "id": "90f9bb90-7999-41d8-adab-399d0c485158",
   "metadata": {},
   "source": [
    "Q5. Explain ImportError. What is ModuleNotFoundError?"
   ]
  },
  {
   "cell_type": "markdown",
   "id": "1bdb806b-856d-4fe7-9ff9-9f6651b90022",
   "metadata": {},
   "source": [
    "This error message typically occurs when you try to import a library or module that Python cannot find or access.\n",
    "\n",
    "#ModuleNotFoundError\n",
    "ModuleNotFoundError is more focused on the situation where Python cannot locate the specified module in its search paths. It provides a clearer indication that the problem is related to the module's absence."
   ]
  },
  {
   "cell_type": "markdown",
   "id": "7ae898e2-efda-4242-b814-6f5de3f2fd67",
   "metadata": {},
   "source": [
    "Q6. List down some best practices for exception handling in python."
   ]
  },
  {
   "cell_type": "code",
   "execution_count": 10,
   "id": "cf9921d7-81cf-46df-bcaf-61b0999d873e",
   "metadata": {},
   "outputs": [
    {
     "name": "stdout",
     "output_type": "stream",
     "text": [
      "Please! Don't divide by zero else you'll get an error. division by zero\n"
     ]
    }
   ],
   "source": [
    "#use always a specific exception and print valid msg\n",
    "def zeroError(val,val2):\n",
    "    try:\n",
    "        res = val / val2\n",
    "        print(res)\n",
    "    except ZeroDivisionError as e:\n",
    "        print(\"Please! Don't divide by zero else you'll get an error.\",e)\n",
    "\n",
    "        \n",
    "zeroError(10,0)"
   ]
  },
  {
   "cell_type": "code",
   "execution_count": 39,
   "id": "dfdf4795-5d10-40c5-ba0d-5725492b5e15",
   "metadata": {},
   "outputs": [],
   "source": [
    "#try to logging method\n",
    "import logging\n",
    "logging.basicConfig(filename='errorFile.log', level=logging.ERROR)\n",
    "\n",
    "def zeroDivisionError(val,val2):\n",
    "    try:\n",
    "        res = val / val2\n",
    "        print(res)\n",
    "    except ZeroDivisionError as e:\n",
    "        logging.error('Do not divide by zero else you will get an error {}' .format(e))\n",
    "        \n",
    "if __name__ == '__main__':\n",
    "    zeroDivisionError(10,0)"
   ]
  },
  {
   "cell_type": "code",
   "execution_count": null,
   "id": "bc7464bd-f470-472d-a280-1919711977b2",
   "metadata": {},
   "outputs": [],
   "source": []
  }
 ],
 "metadata": {
  "kernelspec": {
   "display_name": "Python 3 (ipykernel)",
   "language": "python",
   "name": "python3"
  },
  "language_info": {
   "codemirror_mode": {
    "name": "ipython",
    "version": 3
   },
   "file_extension": ".py",
   "mimetype": "text/x-python",
   "name": "python",
   "nbconvert_exporter": "python",
   "pygments_lexer": "ipython3",
   "version": "3.10.8"
  }
 },
 "nbformat": 4,
 "nbformat_minor": 5
}
