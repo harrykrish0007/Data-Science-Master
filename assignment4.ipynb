{
 "cells": [
  {
   "cell_type": "markdown",
   "id": "8ee8713b-1ac9-404b-b814-33b1680523f5",
   "metadata": {},
   "source": [
    "Q1. Create a python program to sort the given list of tuples based on integer value using a\n",
    "lambda function.\n",
    "[('Sachin Tendulkar', 34357), ('Ricky Ponting', 27483), ('Jack Kallis', 25534), ('Virat Kohli', 24936)]"
   ]
  },
  {
   "cell_type": "code",
   "execution_count": 29,
   "id": "29341068-57f5-4755-956d-05ae856232ae",
   "metadata": {},
   "outputs": [
    {
     "name": "stdout",
     "output_type": "stream",
     "text": [
      "[('Virat Kohli', 24936), ('Jack Kallis', 25534), ('Ricky Ponting', 27483), ('Sachin Tendulkar', 34357)]\n"
     ]
    }
   ],
   "source": [
    "lis = [('Sachin Tendulkar', 34357), ('Ricky Ponting', 27483), ('Jack Kallis', 25534), ('Virat Kohli', 24936)]\n",
    "\n",
    "lis.sort(key = lambda x:x[1])\n",
    "\n",
    "print(lis)"
   ]
  },
  {
   "cell_type": "markdown",
   "id": "d47f5192-4ed9-4e83-aac5-997436e3493d",
   "metadata": {},
   "source": [
    "Q2. Write a Python Program to find the squares of all the numbers in the given list of integers using\n",
    "lambda and map functions.\n",
    "[1, 2, 3, 4, 5, 6, 7, 8, 9, 10]"
   ]
  },
  {
   "cell_type": "code",
   "execution_count": 34,
   "id": "dc3498a9-dc22-4af6-8b15-f193403d068d",
   "metadata": {},
   "outputs": [
    {
     "name": "stdout",
     "output_type": "stream",
     "text": [
      "[1, 4, 9, 16, 25, 36, 49, 64, 81, 100]\n"
     ]
    }
   ],
   "source": [
    "lis = [1, 2, 3, 4, 5, 6, 7, 8, 9, 10]\n",
    "\n",
    "a = list(map(lambda x : x**2, lis))\n",
    "print(a)"
   ]
  },
  {
   "cell_type": "markdown",
   "id": "594a9e48-26cc-4a97-8666-e7c7560d4112",
   "metadata": {},
   "source": [
    "Q3. Write a python program to convert the given list of integers into a tuple of strings. Use map and\n",
    "lambda functions\n",
    "Given String: [1, 2, 3, 4, 5, 6, 7, 8, 9, 10]\n",
    "Expected output: ('1', '2', '3', '4', '5', '6', '7', '8', '9', '10')"
   ]
  },
  {
   "cell_type": "code",
   "execution_count": 36,
   "id": "918ff60f-93b9-48b8-a129-025632f5b237",
   "metadata": {},
   "outputs": [
    {
     "name": "stdout",
     "output_type": "stream",
     "text": [
      "('1', '2', '3', '4', '5', '6', '7', '8', '9', '10')\n"
     ]
    }
   ],
   "source": [
    "lis = [1, 2, 3, 4, 5, 6, 7, 8, 9, 10]\n",
    "tup = tuple(map(lambda x:str(x), lis))\n",
    "print(tup)"
   ]
  },
  {
   "cell_type": "markdown",
   "id": "bf9ae95a-3985-4b47-a1a1-f5849bf442da",
   "metadata": {},
   "source": [
    "Q4. Write a python program using reduce function to compute the product of a list containing numbers\n",
    "from 1 to 25."
   ]
  },
  {
   "cell_type": "code",
   "execution_count": 42,
   "id": "674af93a-595d-4a9a-8927-d9ebeee1130f",
   "metadata": {},
   "outputs": [
    {
     "name": "stdout",
     "output_type": "stream",
     "text": [
      "325\n"
     ]
    }
   ],
   "source": [
    "from functools import reduce\n",
    "\n",
    "lis = range(1,26)\n",
    "compute = reduce(lambda x,y: x+y , lis)\n",
    "print(compute)"
   ]
  },
  {
   "cell_type": "markdown",
   "id": "4c5379bb-fedf-44ff-8dbe-90ddf08fde43",
   "metadata": {},
   "source": [
    "Q5. Write a python program to filter the numbers in a given list that are divisible by 2 and 3 using the\n",
    "filter function.\n",
    "[2, 3, 6, 9, 27, 60, 90, 120, 55, 46]"
   ]
  },
  {
   "cell_type": "code",
   "execution_count": 45,
   "id": "690ed425-c333-4d2e-98e4-324487925e57",
   "metadata": {},
   "outputs": [
    {
     "name": "stdout",
     "output_type": "stream",
     "text": [
      "[6, 60, 90, 120]\n"
     ]
    }
   ],
   "source": [
    "lis = [2, 3, 6, 9, 27, 60, 90, 120, 55, 46]\n",
    "\n",
    "filter_lis = list(filter(lambda x : x%2 == 0 and x%3 == 0, lis))\n",
    "print(filter_lis)"
   ]
  },
  {
   "cell_type": "markdown",
   "id": "f3449949-ba34-45b4-b432-5fd419ff3fee",
   "metadata": {},
   "source": [
    "Q6. Write a python program to find palindromes in the given list of strings using lambda and filter\n",
    "function.\n",
    "['python', 'php', 'aba', 'radar', 'level']"
   ]
  },
  {
   "cell_type": "code",
   "execution_count": 62,
   "id": "ad0be876-42ea-4afc-94eb-987db357a322",
   "metadata": {},
   "outputs": [
    {
     "name": "stdout",
     "output_type": "stream",
     "text": [
      "['php', 'aba', 'radar', 'level']\n"
     ]
    }
   ],
   "source": [
    "lis = ['python', 'php', 'aba', 'radar', 'level']\n",
    "palindrome_lis = list(filter(lambda x : x == x[::-1],lis))\n",
    "print(palindrome_lis)"
   ]
  }
 ],
 "metadata": {
  "kernelspec": {
   "display_name": "Python 3 (ipykernel)",
   "language": "python",
   "name": "python3"
  },
  "language_info": {
   "codemirror_mode": {
    "name": "ipython",
    "version": 3
   },
   "file_extension": ".py",
   "mimetype": "text/x-python",
   "name": "python",
   "nbconvert_exporter": "python",
   "pygments_lexer": "ipython3",
   "version": "3.10.8"
  }
 },
 "nbformat": 4,
 "nbformat_minor": 5
}
